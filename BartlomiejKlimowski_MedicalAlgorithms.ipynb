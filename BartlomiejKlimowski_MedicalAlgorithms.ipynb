{
 "cells": [
  {
   "cell_type": "markdown",
   "metadata": {},
   "source": [
    "# Zadania rekrutacyjne - MedicalAlgorithms\n",
    "Bartłomiej Klimowski - 29.10.18"
   ]
  },
  {
   "cell_type": "code",
   "execution_count": 38,
   "metadata": {},
   "outputs": [],
   "source": [
    "%matplotlib inline\n",
    "import csv\n",
    "import pandas as pd\n",
    "import seaborn as sns\n",
    "import numpy as np\n",
    "import scipy.stats as st\n",
    "from sklearn.utils import resample\n",
    "\n",
    "from statsmodels.stats.weightstats import ttost_ind\n",
    "import matplotlib.pyplot as plt\n",
    "import matplotlib.style as style\n",
    "from matplotlib import rcParams\n",
    "\n",
    "# figure size in inches\n",
    "style.use('ggplot')\n",
    "rcParams['figure.figsize'] = 10,7"
   ]
  },
  {
   "cell_type": "markdown",
   "metadata": {},
   "source": [
    "## Zadanie 1\n",
    "**Podpunkt 1** Dane są dwa zbiory obserwacji A i B (pliki: A.csv, B.csv). Zweryfikuj hipotezy, że obserwacje\n",
    "ze zbioru A pochodzą z rozkładu normalnego oraz, że obserwacje ze zbioru B pochodzą z\n",
    "rozkadu normalnego.\n",
    "+ Opisz sposób weryfikacji hipotez, podaj p-value."
   ]
  },
  {
   "cell_type": "markdown",
   "metadata": {},
   "source": [
    "## Analiza Eksploracyjna\n",
    "Przed przystąpieniem do jakichkolwiek testów przyjrzyjmy się samym zbiorom danych."
   ]
  },
  {
   "cell_type": "code",
   "execution_count": 95,
   "metadata": {},
   "outputs": [],
   "source": [
    "A = pd.read_csv(\"A.csv\")\n",
    "B = pd.read_csv(\"B.csv\")"
   ]
  },
  {
   "cell_type": "code",
   "execution_count": 96,
   "metadata": {},
   "outputs": [
    {
     "data": {
      "text/plain": [
       "Text(0.5, 1.0, 'Histogramy zbiorów A i B')"
      ]
     },
     "execution_count": 96,
     "metadata": {},
     "output_type": "execute_result"
    },
    {
     "data": {
      "image/png": "[encoded data removed]",
      "text/plain": [
       "<Figure size 720x504 with 1 Axes>"
      ]
     },
     "metadata": {},
     "output_type": "display_data"
    }
   ],
   "source": [
    "sns.distplot(A[\"x\"], kde=False)\n",
    "sns.distplot(B[\"x\"], kde=False)\n",
    "plt.legend((\"A\",\"B\"), prop={'size': 16})\n",
    "plt.title(\"Histogramy zbiorów A i B\")"
   ]
  },
  {
   "cell_type": "code",
   "execution_count": 97,
   "metadata": {},
   "outputs": [
    {
     "data": {
      "text/html": [
       "<div>\n",
       "<style scoped>\n",
       "    .dataframe tbody tr th:only-of-type {\n",
       "        vertical-align: middle;\n",
       "    }\n",
       "\n",
       "    .dataframe tbody tr th {\n",
       "        vertical-align: top;\n",
       "    }\n",
       "\n",
       "    .dataframe thead th {\n",
       "        text-align: right;\n",
       "    }\n",
       "</style>\n",
       "<table border=\"1\" class=\"dataframe\">\n",
       "  <thead>\n",
       "    <tr style=\"text-align: right;\">\n",
       "      <th></th>\n",
       "      <th>A</th>\n",
       "      <th>B</th>\n",
       "    </tr>\n",
       "  </thead>\n",
       "  <tbody>\n",
       "    <tr>\n",
       "      <th>count</th>\n",
       "      <td>136.000000</td>\n",
       "      <td>179.000000</td>\n",
       "    </tr>\n",
       "    <tr>\n",
       "      <th>mean</th>\n",
       "      <td>3.510475</td>\n",
       "      <td>3.938122</td>\n",
       "    </tr>\n",
       "    <tr>\n",
       "      <th>std</th>\n",
       "      <td>1.053580</td>\n",
       "      <td>0.996429</td>\n",
       "    </tr>\n",
       "    <tr>\n",
       "      <th>min</th>\n",
       "      <td>0.945807</td>\n",
       "      <td>1.113184</td>\n",
       "    </tr>\n",
       "    <tr>\n",
       "      <th>25%</th>\n",
       "      <td>2.726772</td>\n",
       "      <td>3.331260</td>\n",
       "    </tr>\n",
       "    <tr>\n",
       "      <th>50%</th>\n",
       "      <td>3.493919</td>\n",
       "      <td>3.986899</td>\n",
       "    </tr>\n",
       "    <tr>\n",
       "      <th>75%</th>\n",
       "      <td>4.169715</td>\n",
       "      <td>4.616855</td>\n",
       "    </tr>\n",
       "    <tr>\n",
       "      <th>max</th>\n",
       "      <td>6.119664</td>\n",
       "      <td>6.926329</td>\n",
       "    </tr>\n",
       "  </tbody>\n",
       "</table>\n",
       "</div>"
      ],
      "text/plain": [
       "                A           B\n",
       "count  136.000000  179.000000\n",
       "mean     3.510475    3.938122\n",
       "std      1.053580    0.996429\n",
       "min      0.945807    1.113184\n",
       "25%      2.726772    3.331260\n",
       "50%      3.493919    3.986899\n",
       "75%      4.169715    4.616855\n",
       "max      6.119664    6.926329"
      ]
     },
     "execution_count": 97,
     "metadata": {},
     "output_type": "execute_result"
    }
   ],
   "source": [
    "# porównanie podstawowych statystyk badanych zbiorów\n",
    "A_describe = A.describe()\n",
    "B_describe = B.describe()\n",
    "A_describe.columns = [\"A\"]\n",
    "B_describe.columns = [\"B\"]\n",
    "datasets_description = pd.concat([A_describe, B_describe], axis=1, sort=False)\n",
    "datasets_description"
   ]
  },
  {
   "cell_type": "code",
   "execution_count": 98,
   "metadata": {},
   "outputs": [
    {
     "data": {
      "text/plain": [
       "count   -43.000000\n",
       "mean     -0.427647\n",
       "std       0.057151\n",
       "min      -0.167377\n",
       "25%      -0.604488\n",
       "50%      -0.492980\n",
       "75%      -0.447140\n",
       "max      -0.806665\n",
       "dtype: float64"
      ]
     },
     "execution_count": 98,
     "metadata": {},
     "output_type": "execute_result"
    }
   ],
   "source": [
    "#porównanie różnic\n",
    "datasets_description['A'] - datasets_description['B']"
   ]
  },
  {
   "cell_type": "code",
   "execution_count": 181,
   "metadata": {},
   "outputs": [
    {
     "data": {
      "text/plain": [
       "mean   -2.165026\n",
       "std     0.289336\n",
       "min    -0.847372\n",
       "25%    -3.060313\n",
       "50%    -2.495785\n",
       "75%    -2.263714\n",
       "max    -4.083862\n",
       "dtype: float64"
      ]
     },
     "execution_count": 181,
     "metadata": {},
     "output_type": "execute_result"
    }
   ],
   "source": [
    "#porównanie różnic w odniesieniu do średiej zbioru A (W PROCENTACH!)\n",
    "((datasets_description['A'] - datasets_description['B'])/datasets_description['A'].mean())[1:] * 100"
   ]
  },
  {
   "cell_type": "markdown",
   "metadata": {},
   "source": [
    "## Testowanie normalnośći rozkładów"
   ]
  },
  {
   "cell_type": "code",
   "execution_count": 182,
   "metadata": {},
   "outputs": [],
   "source": [
    "## Wykresy QQ "
   ]
  },
  {
   "cell_type": "code",
   "execution_count": 183,
   "metadata": {},
   "outputs": [
    {
     "data": {
      "text/plain": [
       "Text(0.5, 1.0, 'QQ plot zbioru A')"
      ]
     },
     "execution_count": 183,
     "metadata": {},
     "output_type": "execute_result"
    },
    {
     "data": {
      "image/png": "[encoded data removed]",
      "text/plain": [
       "<Figure size 720x504 with 1 Axes>"
      ]
     },
     "metadata": {},
     "output_type": "display_data"
    }
   ],
   "source": [
    "qqplot_A = st.probplot(A['x'],dist=\"norm\", plot=plt)\n",
    "plt.title(\"QQ plot zbioru A\")"
   ]
  },
  {
   "cell_type": "code",
   "execution_count": 184,
   "metadata": {},
   "outputs": [
    {
     "data": {
      "text/plain": [
       "Text(0.5, 1.0, 'QQ plot zbioru B')"
      ]
     },
     "execution_count": 184,
     "metadata": {},
     "output_type": "execute_result"
    },
    {
     "data": {
      "image/png": "[encoded data removed]",
      "text/plain": [
       "<Figure size 720x504 with 1 Axes>"
      ]
     },
     "metadata": {},
     "output_type": "display_data"
    }
   ],
   "source": [
    "qqplot_B = st.probplot(B['x'],dist=\"norm\", plot=plt)\n",
    "plt.title(\"QQ plot zbioru B\")"
   ]
  },
  {
   "cell_type": "markdown",
   "metadata": {},
   "source": [
    "## Testy na normalność rozkładu"
   ]
  },
  {
   "cell_type": "markdown",
   "metadata": {},
   "source": [
    "Do zweryfikowania tego, ze próbki pochodzą z rozkładów normalnych wykorzystano test Shapiro-Wilka (SW) i D'Agoistino ($K^2$). Pierwszy jest standardowym wyborem ze względu na swoją najwiekszą moc, w porównaniu do pozostałych testów. Test $K^2$ wzięto w ramach odniesienia, jak równiez dlatego, że bazuje na innych miarach (skośności i kurtozie)  \n",
    "  \n",
    "Oba testy przyjmują nastepującą hipotezę zerową:   \n",
    "$H_0$ - próbki pochodzą z rozkładu normalnego"
   ]
  },
  {
   "cell_type": "code",
   "execution_count": 146,
   "metadata": {},
   "outputs": [
    {
     "name": "stdout",
     "output_type": "stream",
     "text": [
      "Wynik testu SW (p-value) dla zbioru A: 0.17\n",
      "Wynik testu SW (p-value) dla zbioru B: 0.54\n"
     ]
    }
   ],
   "source": [
    "print(\"Wynik testu SW (p-value) dla zbioru A:\",np.round(st.shapiro(A['x']),2)[1])\n",
    "print(\"Wynik testu SW (p-value) dla zbioru B:\",np.round(st.shapiro(B['x']),2)[1])"
   ]
  },
  {
   "cell_type": "code",
   "execution_count": 147,
   "metadata": {},
   "outputs": [
    {
     "name": "stdout",
     "output_type": "stream",
     "text": [
      "Wynik testu K^2 (p-value) dla zbioru A: 0.74\n",
      "Wynik testu K^2 (p-value) dla zbioru B: 0.63\n"
     ]
    }
   ],
   "source": [
    "print(\"Wynik testu K^2 (p-value) dla zbioru A:\",np.round(st.normaltest(A['x']),2)[1])\n",
    "print(\"Wynik testu K^2 (p-value) dla zbioru B:\",np.round(st.normaltest(B['x']),2)[1])"
   ]
  },
  {
   "cell_type": "markdown",
   "metadata": {},
   "source": [
    "Jak widać, zaden z testów nie osiągnął wartości p_value<0.05. Zgodnie z standartowymi wytycznymi, powinniśmy przyjąć hipotezę zerową i uznać że nie mamy przesłanek sądzić, że dane nie pochodzą z rozkładów normalnych."
   ]
  },
  {
   "cell_type": "markdown",
   "metadata": {},
   "source": [
    "**Podpunkt 2** Widząc, że obserwacje z obu zbiorów pochodzą z rozkładów normalnych o takiej samej\n",
    "wariancji zweryfikuj hipotezę, że wartość oczekiwana zbioru A jest mniejsza niż wartość\n",
    "oczekiwana zbioru B.\n",
    "+ Opisz sposób weryfikacji hipotezy, podaj p-value."
   ]
  },
  {
   "cell_type": "markdown",
   "metadata": {},
   "source": [
    "## Wariancja"
   ]
  },
  {
   "cell_type": "markdown",
   "metadata": {},
   "source": [
    "W treści zadania sprecyzowano żeby założyć takie same wariancję, jednak dla ciekawości to zewryfikujmy testem Levena, o hipotezie zerowej:  \n",
    "$H_0:$ próbki pochodzą z rozkładów o takich samych wariancjach"
   ]
  },
  {
   "cell_type": "code",
   "execution_count": 148,
   "metadata": {},
   "outputs": [
    {
     "data": {
      "text/plain": [
       "LeveneResult(statistic=1.021217877898355, pvalue=0.313010854759847)"
      ]
     },
     "execution_count": 148,
     "metadata": {},
     "output_type": "execute_result"
    }
   ],
   "source": [
    "st.levene(A['x'],B['x'])"
   ]
  },
  {
   "cell_type": "markdown",
   "metadata": {},
   "source": [
    "Nie ma istotnie statystycznych przesłanek, że dane pochodzą z rozkładów o innych wariancjach."
   ]
  },
  {
   "cell_type": "markdown",
   "metadata": {},
   "source": [
    "# Testy"
   ]
  },
  {
   "cell_type": "markdown",
   "metadata": {},
   "source": [
    "W przypadku kiedy mamy takie same wariancje i dane pochodzą z rozkładu normalnego standartowym podejsciem dla porównania dwóch niezaleznych serii pomiarowych jest zastosowanie testu t-studenta:  \n",
    "$H_0: \\mu_a = \\mu_b$  \n",
    "$H_A: \\mu_a < \\mu_b$ "
   ]
  },
  {
   "cell_type": "code",
   "execution_count": 141,
   "metadata": {},
   "outputs": [
    {
     "data": {
      "text/plain": [
       "Ttest_indResult(statistic=-3.6804397441960695, pvalue=0.00027409193981892295)"
      ]
     },
     "execution_count": 141,
     "metadata": {},
     "output_type": "execute_result"
    }
   ],
   "source": [
    "st.ttest_ind(A['x'],B['x'],equal_var = True)"
   ]
  },
  {
   "cell_type": "markdown",
   "metadata": {},
   "source": [
    "Zweryfikujmy też hipotezę przy użyciu testu nieparametrycznego (nie zakładjacego własności rozkładów z których pochodzą próbki). Wybór padł na test Manna-Witneya"
   ]
  },
  {
   "cell_type": "code",
   "execution_count": 145,
   "metadata": {},
   "outputs": [
    {
     "data": {
      "text/plain": [
       "MannwhitneyuResult(statistic=9162.0, pvalue=8.53762182471911e-05)"
      ]
     },
     "execution_count": 145,
     "metadata": {},
     "output_type": "execute_result"
    }
   ],
   "source": [
    "st.mannwhitneyu(A['x'],B['x'], alternative='less')"
   ]
  },
  {
   "cell_type": "markdown",
   "metadata": {},
   "source": [
    "Jak widać w obu przypadkach pvalue jest mniejsze niż 0.05, czyli odrzucamy hipotezę zerową i przyjmujemy, że wartość oczekiwania rozkładu A jest mniejsza niż B. "
   ]
  },
  {
   "cell_type": "markdown",
   "metadata": {},
   "source": [
    "Alternatywnym i dającym więcej informacji podejściem jest TOST(Equivalence test) gdzie wykonujemy dwa jednostronne testy t-studenta z których uzyskujemy przedział gdzie znajduje się róznica średnich rozkładów"
   ]
  },
  {
   "cell_type": "code",
   "execution_count": 166,
   "metadata": {},
   "outputs": [],
   "source": [
    "#arbitralnie przyjęta wartość\n",
    "treshold = ((A['x'].std() + B['x'].std())/2)"
   ]
  },
  {
   "cell_type": "code",
   "execution_count": 167,
   "metadata": {},
   "outputs": [],
   "source": [
    "tost = ttost_ind(A['x'],B['x'],-treshold,-treshold/6)"
   ]
  },
  {
   "cell_type": "code",
   "execution_count": 168,
   "metadata": {},
   "outputs": [
    {
     "name": "stdout",
     "output_type": "stream",
     "text": [
      "pvalue procedury TOST: 0.01\n"
     ]
    }
   ],
   "source": [
    "print(\"pvalue procedury TOST:\",np.round(tost[0],2))"
   ]
  },
  {
   "cell_type": "code",
   "execution_count": 169,
   "metadata": {},
   "outputs": [
    {
     "name": "stdout",
     "output_type": "stream",
     "text": [
      "-1.03\n",
      "-0.17\n"
     ]
    }
   ],
   "source": [
    "#Zakresy\n",
    "print(np.round(-treshold,2))\n",
    "print(np.round(-treshold/6,2))"
   ]
  },
  {
   "cell_type": "markdown",
   "metadata": {},
   "source": [
    "**Odpowiedź**:Wartość oczekiwana zbioru A jest mniejsza niż zbioru B (p_value < 0.05). Róznica ich średnich $\\mu_A - \\mu_B$ mieści się w zakresie <-1.03, -0.17> (p_value = 0.01)  \n",
    "(Przedział można lepiej zoptymalizować, jednak z braku czasu pozostaje taki) "
   ]
  },
  {
   "cell_type": "markdown",
   "metadata": {},
   "source": [
    "# Zadanie 2\n",
    "\n",
    "Spośród 400 skrzyń zawierających taką samą liczbę zaworów przygotowanych do wysyłki\n",
    "wylosowano 20 skrzyń i znajdujące się w nich zawory poddano szczegółowej kontroli.\n",
    "W rezultacie wykryto następujące liczby braków: 0, 4, 3, 6, 0, 2, 1, 1, 4, 3, 5, 2, 3, 1, 2, 5, 4, 2, 1, 0\n",
    "+ Skonstruuj 95% przedział ufności dla całkowitej liczby braków we wszystkich (400)\n",
    "skrzyniach, opisz sposób konstrukcji przedziału."
   ]
  },
  {
   "cell_type": "code",
   "execution_count": 61,
   "metadata": {},
   "outputs": [],
   "source": [
    "smpl = np.array([0, 4, 3, 6, 0, 2, 1, 1, 4, 3,\n",
    "                 5, 2, 3, 1, 2, 5, 4, 2, 1, 0])"
   ]
  },
  {
   "cell_type": "markdown",
   "metadata": {},
   "source": [
    "W przypadku estymacji średniej postępujemy standardowym podejsciem, z tym wyjątkiem, że uwzgledniamy względnie małą liczbę próbek i wartości krytyczne bierzemy z rozkładu t-studenta ( o n-1 stopniach swobody)"
   ]
  },
  {
   "cell_type": "code",
   "execution_count": 186,
   "metadata": {},
   "outputs": [],
   "source": [
    "smpl_ci = st.t.interval(0.95, len(smpl)-1, loc=np.mean(smpl), scale=st.sem(smpl))"
   ]
  },
  {
   "cell_type": "markdown",
   "metadata": {},
   "source": [
    "Zeby otrzymać wartości dla wszystkich skrzyń, z własności średniej możemy przemnozyć krańce przedziałów przez ilość elementów:"
   ]
  },
  {
   "cell_type": "code",
   "execution_count": 187,
   "metadata": {
    "scrolled": true
   },
   "outputs": [
    {
     "data": {
      "text/plain": [
       "array([ 645., 1315.])"
      ]
     },
     "execution_count": 187,
     "metadata": {},
     "output_type": "execute_result"
    }
   ],
   "source": [
    "(400*np.array(smpl_ci)).round()"
   ]
  },
  {
   "cell_type": "markdown",
   "metadata": {},
   "source": [
    "**Odpowiedź:** Dla 95% poziomu istotności przedział ufności całkowitej liczby braków zaworów wynosi (645, 1315)"
   ]
  },
  {
   "cell_type": "markdown",
   "metadata": {},
   "source": [
    "# Zadanie 3\n",
    "Wartości w każdym wierszu pliku examinations.csv to dni od momentu rozpoczęcia badania,\n",
    "w których zaobserwowano objawy pewnej choroby u pacjenta podczas trwania tego badania.\n",
    "Zweryfikuj hipotezę, że liczba badań, w których zaobserwowano chorobę po raz pierwszy po\n",
    "mniej niż 10 dniach jest mniejsza niż liczba badań, w których zaobserwowano chorobę po raz\n",
    "pierwszy po mniej niż 30 dniach.\n",
    "+ Opisz sposób weryfikacji hipotezy, podaj p-value. Możesz użyć metody bootstrap."
   ]
  },
  {
   "cell_type": "markdown",
   "metadata": {},
   "source": [
    "Albo tego zadania nie rozumiem, albo wkradł się błąd. Naturalnym jest, że dla dni <10 liczba obserwacji choroby po raz pierwszy będzie mniejsza (w skrajnym przypadku równa) niż dla <30 dni. Pierwszy przedział zawiera się w drugim.  \n",
    "Poniżej jest zaimplementowana prosta procedura bootstrapowa sprawdzająca warunki zadania, jednak jej wynik jest oczywisty - każda wylosowana podgrupa miała mniej pierwszych obserwacji w dniach <10 niż <30. \n",
    "W kwestii obliczania p-value/przedziałów ufności - znam tylko metody dla ciągłych wielkosci mierzonych w wylosowanych podgrupach, na znalezienie i zaimplementowanie jakiejs dla danych binarnych potrzebowałbym więcej czasu."
   ]
  },
  {
   "cell_type": "code",
   "execution_count": 188,
   "metadata": {
    "collapsed": true
   },
   "outputs": [
    {
     "ename": "IndexError",
     "evalue": "list index out of range",
     "output_type": "error",
     "traceback": [
      "\u001b[0;31m---------------------------------------------------------------------------\u001b[0m",
      "\u001b[0;31mIndexError\u001b[0m                                Traceback (most recent call last)",
      "\u001b[0;32m<ipython-input-188-a9143d97aa1b>\u001b[0m in \u001b[0;36m<module>\u001b[0;34m\u001b[0m\n\u001b[1;32m      4\u001b[0m          \u001b[0mreader\u001b[0m \u001b[0;34m=\u001b[0m \u001b[0mcsv\u001b[0m\u001b[0;34m.\u001b[0m\u001b[0mreader\u001b[0m\u001b[0;34m(\u001b[0m\u001b[0mcsvfile\u001b[0m\u001b[0;34m)\u001b[0m\u001b[0;34m\u001b[0m\u001b[0m\n\u001b[1;32m      5\u001b[0m          \u001b[0;32mfor\u001b[0m \u001b[0mix\u001b[0m\u001b[0;34m,\u001b[0m \u001b[0mrow\u001b[0m \u001b[0;32min\u001b[0m \u001b[0menumerate\u001b[0m\u001b[0;34m(\u001b[0m\u001b[0mreader\u001b[0m\u001b[0;34m)\u001b[0m\u001b[0;34m:\u001b[0m\u001b[0;34m\u001b[0m\u001b[0m\n\u001b[0;32m----> 6\u001b[0;31m             \u001b[0mexaminations\u001b[0m\u001b[0;34m.\u001b[0m\u001b[0mappend\u001b[0m\u001b[0;34m(\u001b[0m\u001b[0mlist\u001b[0m\u001b[0;34m(\u001b[0m\u001b[0mmap\u001b[0m\u001b[0;34m(\u001b[0m\u001b[0mint\u001b[0m\u001b[0;34m,\u001b[0m\u001b[0mrow\u001b[0m\u001b[0;34m[\u001b[0m\u001b[0;36m0\u001b[0m\u001b[0;34m]\u001b[0m\u001b[0;34m.\u001b[0m\u001b[0msplit\u001b[0m\u001b[0;34m(\u001b[0m\u001b[0;34m';'\u001b[0m\u001b[0;34m)\u001b[0m\u001b[0;34m)\u001b[0m\u001b[0;34m)\u001b[0m\u001b[0;34m[\u001b[0m\u001b[0;36m0\u001b[0m\u001b[0;34m]\u001b[0m\u001b[0;34m)\u001b[0m\u001b[0;34m\u001b[0m\u001b[0m\n\u001b[0m",
      "\u001b[0;31mIndexError\u001b[0m: list index out of range"
     ]
    }
   ],
   "source": [
    "# wczytujemy tylko dni pierwszej obserwacji\n",
    "examinations = []\n",
    "with open('examinations.csv', newline='\\n') as csvfile:\n",
    "         reader = csv.reader(csvfile)\n",
    "         for ix, row in enumerate(reader):\n",
    "            examinations.append(list(map(int,row[0].split(';')))[0])"
   ]
  },
  {
   "cell_type": "code",
   "execution_count": 189,
   "metadata": {},
   "outputs": [],
   "source": [
    "examinations = np.array(examinations)"
   ]
  },
  {
   "cell_type": "code",
   "execution_count": 190,
   "metadata": {
    "scrolled": true
   },
   "outputs": [
    {
     "data": {
      "text/plain": [
       "1518"
      ]
     },
     "execution_count": 190,
     "metadata": {},
     "output_type": "execute_result"
    }
   ],
   "source": [
    "#liczba diagnoz przed 10 dniem\n",
    "examinations[examinations < 10].shape[0]"
   ]
  },
  {
   "cell_type": "code",
   "execution_count": 191,
   "metadata": {},
   "outputs": [
    {
     "data": {
      "text/plain": [
       "1998"
      ]
     },
     "execution_count": 191,
     "metadata": {},
     "output_type": "execute_result"
    }
   ],
   "source": [
    "#liczba diagnoz przed 30 dniem\n",
    "examinations[examinations < 30].shape[0]"
   ]
  },
  {
   "cell_type": "code",
   "execution_count": 192,
   "metadata": {},
   "outputs": [],
   "source": [
    "def bootstrap(data, n_iter, n_size):\n",
    "    stats = []\n",
    "    for ii in range(n_iter):\n",
    "        bootstrap_smp = resample(data, n_samples=n_size)\n",
    "        score = int((bootstrap_smp[bootstrap_smp < 10].shape[0]) < (bootstrap_smp[bootstrap_smp < 30].shape[0]))\n",
    "        stats.append(score)\n",
    "        \n",
    "    return (np.sum(stats)/np.shape(stats)[0]) * 100"
   ]
  },
  {
   "cell_type": "code",
   "execution_count": 193,
   "metadata": {},
   "outputs": [
    {
     "data": {
      "text/plain": [
       "100.0"
      ]
     },
     "execution_count": 193,
     "metadata": {},
     "output_type": "execute_result"
    }
   ],
   "source": [
    "bootstrap(examinations,1000,int(examinations.shape[0]*0.8))"
   ]
  },
  {
   "cell_type": "code",
   "execution_count": null,
   "metadata": {},
   "outputs": [],
   "source": []
  }
 ],
 "metadata": {
  "kernelspec": {
   "display_name": "Python 3",
   "language": "python",
   "name": "python3"
  },
  "language_info": {
   "codemirror_mode": {
    "name": "ipython",
    "version": 3
   },
   "file_extension": ".py",
   "mimetype": "text/x-python",
   "name": "python",
   "nbconvert_exporter": "python",
   "pygments_lexer": "ipython3",
   "version": "3.6.6"
  }
 },
 "nbformat": 4,
 "nbformat_minor": 2
}
